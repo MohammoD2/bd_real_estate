{
 "cells": [
  {
   "cell_type": "code",
   "execution_count": 40,
   "metadata": {},
   "outputs": [
    {
     "name": "stdout",
     "output_type": "stream",
     "text": [
      "Collecting nltk\n",
      "  Downloading nltk-3.9.1-py3-none-any.whl.metadata (2.9 kB)\n",
      "Requirement already satisfied: click in d:\\work file\\bd_real_estate\\real_estate_venv\\lib\\site-packages (from nltk) (8.1.7)\n",
      "Requirement already satisfied: joblib in d:\\work file\\bd_real_estate\\real_estate_venv\\lib\\site-packages (from nltk) (1.4.2)\n",
      "Collecting regex>=2021.8.3 (from nltk)\n",
      "  Downloading regex-2024.11.6-cp312-cp312-win_amd64.whl.metadata (41 kB)\n",
      "Requirement already satisfied: tqdm in d:\\work file\\bd_real_estate\\real_estate_venv\\lib\\site-packages (from nltk) (4.66.6)\n",
      "Requirement already satisfied: colorama in d:\\work file\\bd_real_estate\\real_estate_venv\\lib\\site-packages (from click->nltk) (0.4.6)\n",
      "Downloading nltk-3.9.1-py3-none-any.whl (1.5 MB)\n",
      "   ---------------------------------------- 0.0/1.5 MB ? eta -:--:--\n",
      "   ------------- -------------------------- 0.5/1.5 MB 1.9 MB/s eta 0:00:01\n",
      "   ------------- -------------------------- 0.5/1.5 MB 1.9 MB/s eta 0:00:01\n",
      "   -------------------- ------------------- 0.8/1.5 MB 1.3 MB/s eta 0:00:01\n",
      "   --------------------------- ------------ 1.0/1.5 MB 1.3 MB/s eta 0:00:01\n",
      "   ---------------------------------- ----- 1.3/1.5 MB 1.3 MB/s eta 0:00:01\n",
      "   ---------------------------------------- 1.5/1.5 MB 1.3 MB/s eta 0:00:00\n",
      "Downloading regex-2024.11.6-cp312-cp312-win_amd64.whl (273 kB)\n",
      "Installing collected packages: regex, nltk\n",
      "Successfully installed nltk-3.9.1 regex-2024.11.6\n"
     ]
    }
   ],
   "source": [
    "!pip install nltk\n"
   ]
  },
  {
   "cell_type": "code",
   "execution_count": 1,
   "metadata": {},
   "outputs": [
    {
     "name": "stderr",
     "output_type": "stream",
     "text": [
      "[nltk_data] Downloading package punkt to\n",
      "[nltk_data]     C:\\Users\\User\\AppData\\Roaming\\nltk_data...\n",
      "[nltk_data]   Package punkt is already up-to-date!\n"
     ]
    },
    {
     "data": {
      "text/plain": [
       "True"
      ]
     },
     "execution_count": 1,
     "metadata": {},
     "output_type": "execute_result"
    }
   ],
   "source": [
    "from sklearn.feature_extraction.text import TfidfVectorizer\n",
    "from sklearn.preprocessing import MinMaxScaler, OneHotEncoder\n",
    "from sklearn.preprocessing import FunctionTransformer\n",
    "\n",
    "from sklearn.metrics.pairwise import cosine_similarity\n",
    "from sklearn.compose import ColumnTransformer\n",
    "from sklearn.pipeline import Pipeline\n",
    "from sklearn.base import BaseEstimator, TransformerMixin\n",
    "import pandas as pd\n",
    "import numpy as np\n",
    "from nltk.stem import PorterStemmer\n",
    "from nltk.tokenize import word_tokenize\n",
    "import nltk # Download the punkt tokenizer \n",
    "nltk.download('punkt') \n",
    "# nltk.df.path.append(r'D:\\Work file\\bd_real_estate\\real_estate_venv')"
   ]
  },
  {
   "cell_type": "code",
   "execution_count": 203,
   "metadata": {},
   "outputs": [],
   "source": [
    "df = pd.read_csv(r\"D:\\Work file\\bd_real_estate\\notebooks\\Recommendation_data.csv\", index_col=0)"
   ]
  },
  {
   "cell_type": "code",
   "execution_count": 204,
   "metadata": {},
   "outputs": [
    {
     "data": {
      "text/html": [
       "<div>\n",
       "<style scoped>\n",
       "    .dataframe tbody tr th:only-of-type {\n",
       "        vertical-align: middle;\n",
       "    }\n",
       "\n",
       "    .dataframe tbody tr th {\n",
       "        vertical-align: top;\n",
       "    }\n",
       "\n",
       "    .dataframe thead th {\n",
       "        text-align: right;\n",
       "    }\n",
       "</style>\n",
       "<table border=\"1\" class=\"dataframe\">\n",
       "  <thead>\n",
       "    <tr style=\"text-align: right;\">\n",
       "      <th></th>\n",
       "      <th>property_name</th>\n",
       "      <th>address</th>\n",
       "      <th>short_description</th>\n",
       "      <th>price</th>\n",
       "      <th>bedrooms</th>\n",
       "      <th>bathrooms</th>\n",
       "      <th>floor_area</th>\n",
       "      <th>property_url</th>\n",
       "      <th>type</th>\n",
       "      <th>teg</th>\n",
       "      <th>price_per_sqft</th>\n",
       "      <th>sub_area</th>\n",
       "      <th>area</th>\n",
       "    </tr>\n",
       "  </thead>\n",
       "  <tbody>\n",
       "    <tr>\n",
       "      <th>0</th>\n",
       "      <td>Flat For Sale In Agargaon Close To Agargaon Ja...</td>\n",
       "      <td>West Agargaon, Agargaon</td>\n",
       "      <td>lovely apartment is vacant at the moment you g...</td>\n",
       "      <td>8500000.0</td>\n",
       "      <td>3.0</td>\n",
       "      <td>3.0</td>\n",
       "      <td>1275.0</td>\n",
       "      <td>https://www.bproperty.com/buy/dhaka/agargaon/f...</td>\n",
       "      <td>buy</td>\n",
       "      <td>agargaon</td>\n",
       "      <td>6666.666667</td>\n",
       "      <td>West Agargaon</td>\n",
       "      <td>Agargaon</td>\n",
       "    </tr>\n",
       "    <tr>\n",
       "      <th>1</th>\n",
       "      <td>We Have A 1133 Sq.Ft Flat For Sale In The Loca...</td>\n",
       "      <td>West Agargaon, Agargaon</td>\n",
       "      <td>the vacant flat surely is a reasonable deal co...</td>\n",
       "      <td>6231500.0</td>\n",
       "      <td>3.0</td>\n",
       "      <td>3.0</td>\n",
       "      <td>1133.0</td>\n",
       "      <td>https://www.bproperty.com/buy/dhaka/agargaon/w...</td>\n",
       "      <td>buy</td>\n",
       "      <td>agargaon</td>\n",
       "      <td>5500.000000</td>\n",
       "      <td>West Agargaon</td>\n",
       "      <td>Agargaon</td>\n",
       "    </tr>\n",
       "    <tr>\n",
       "      <th>2</th>\n",
       "      <td>A Must See This Apartment For Sale Is All Set ...</td>\n",
       "      <td>Science Museum To Water Tank Road, Agargaon</td>\n",
       "      <td>looking for a suitable place to settle in the ...</td>\n",
       "      <td>7800000.0</td>\n",
       "      <td>3.0</td>\n",
       "      <td>3.0</td>\n",
       "      <td>1356.0</td>\n",
       "      <td>https://www.bproperty.com/buy/dhaka/agargaon/a...</td>\n",
       "      <td>buy</td>\n",
       "      <td>agargaon</td>\n",
       "      <td>5752.212389</td>\n",
       "      <td>Science Museum To Water Tank Road</td>\n",
       "      <td>Agargaon</td>\n",
       "    </tr>\n",
       "    <tr>\n",
       "      <th>3</th>\n",
       "      <td>Affordableble 765 Sq Ft Apartment Is Up For Sa...</td>\n",
       "      <td>West Agargaon, Agargaon</td>\n",
       "      <td>a wellconstructed and nicely planned flat is v...</td>\n",
       "      <td>5207500.0</td>\n",
       "      <td>2.0</td>\n",
       "      <td>2.0</td>\n",
       "      <td>765.0</td>\n",
       "      <td>https://www.bproperty.com/buy/dhaka/agargaon/a...</td>\n",
       "      <td>buy</td>\n",
       "      <td>agargaon</td>\n",
       "      <td>6807.189542</td>\n",
       "      <td>West Agargaon</td>\n",
       "      <td>Agargaon</td>\n",
       "    </tr>\n",
       "    <tr>\n",
       "      <th>4</th>\n",
       "      <td>Wonderful 895 SQ FT home is available for sale...</td>\n",
       "      <td>West Agargaon, Agargaon</td>\n",
       "      <td>good news for the home hunters if you are plan...</td>\n",
       "      <td>5500000.0</td>\n",
       "      <td>2.0</td>\n",
       "      <td>2.0</td>\n",
       "      <td>895.0</td>\n",
       "      <td>https://www.bproperty.com/buy/dhaka/agargaon/w...</td>\n",
       "      <td>buy</td>\n",
       "      <td>agargaon</td>\n",
       "      <td>6145.251397</td>\n",
       "      <td>West Agargaon</td>\n",
       "      <td>Agargaon</td>\n",
       "    </tr>\n",
       "  </tbody>\n",
       "</table>\n",
       "</div>"
      ],
      "text/plain": [
       "                                       property_name  \\\n",
       "0  Flat For Sale In Agargaon Close To Agargaon Ja...   \n",
       "1  We Have A 1133 Sq.Ft Flat For Sale In The Loca...   \n",
       "2  A Must See This Apartment For Sale Is All Set ...   \n",
       "3  Affordableble 765 Sq Ft Apartment Is Up For Sa...   \n",
       "4  Wonderful 895 SQ FT home is available for sale...   \n",
       "\n",
       "                                       address  \\\n",
       "0                      West Agargaon, Agargaon   \n",
       "1                      West Agargaon, Agargaon   \n",
       "2  Science Museum To Water Tank Road, Agargaon   \n",
       "3                      West Agargaon, Agargaon   \n",
       "4                      West Agargaon, Agargaon   \n",
       "\n",
       "                                   short_description      price  bedrooms  \\\n",
       "0  lovely apartment is vacant at the moment you g...  8500000.0       3.0   \n",
       "1  the vacant flat surely is a reasonable deal co...  6231500.0       3.0   \n",
       "2  looking for a suitable place to settle in the ...  7800000.0       3.0   \n",
       "3  a wellconstructed and nicely planned flat is v...  5207500.0       2.0   \n",
       "4  good news for the home hunters if you are plan...  5500000.0       2.0   \n",
       "\n",
       "   bathrooms  floor_area                                       property_url  \\\n",
       "0        3.0      1275.0  https://www.bproperty.com/buy/dhaka/agargaon/f...   \n",
       "1        3.0      1133.0  https://www.bproperty.com/buy/dhaka/agargaon/w...   \n",
       "2        3.0      1356.0  https://www.bproperty.com/buy/dhaka/agargaon/a...   \n",
       "3        2.0       765.0  https://www.bproperty.com/buy/dhaka/agargaon/a...   \n",
       "4        2.0       895.0  https://www.bproperty.com/buy/dhaka/agargaon/w...   \n",
       "\n",
       "  type       teg  price_per_sqft                           sub_area       area  \n",
       "0  buy  agargaon     6666.666667                      West Agargaon   Agargaon  \n",
       "1  buy  agargaon     5500.000000                      West Agargaon   Agargaon  \n",
       "2  buy  agargaon     5752.212389  Science Museum To Water Tank Road   Agargaon  \n",
       "3  buy  agargaon     6807.189542                      West Agargaon   Agargaon  \n",
       "4  buy  agargaon     6145.251397                      West Agargaon   Agargaon  "
      ]
     },
     "execution_count": 204,
     "metadata": {},
     "output_type": "execute_result"
    }
   ],
   "source": [
    "df.head()"
   ]
  },
  {
   "cell_type": "code",
   "execution_count": 205,
   "metadata": {},
   "outputs": [],
   "source": [
    "df.dropna(inplace=True)"
   ]
  },
  {
   "cell_type": "code",
   "execution_count": 206,
   "metadata": {},
   "outputs": [
    {
     "data": {
      "text/plain": [
       "area\n",
       "Mirpur             1565\n",
       "Bashundhara R-A     876\n",
       "Uttara              605\n",
       "Badda               448\n",
       "Mohammadpur         341\n",
       "Banasree            284\n",
       "Aftab Nagar         216\n",
       "Dakshin Khan        205\n",
       "Dhanmondi           149\n",
       "Agargaon            111\n",
       "Rampura             103\n",
       "Khilgaon             87\n",
       "Tejgaon              57\n",
       "Motijheel            54\n",
       "Gulshan              48\n",
       "Mohakhali            32\n",
       "Keraniganj           30\n",
       "New Market           27\n",
       "Banani               24\n",
       "Name: count, dtype: int64"
      ]
     },
     "execution_count": 206,
     "metadata": {},
     "output_type": "execute_result"
    }
   ],
   "source": [
    "df['area'].value_counts()"
   ]
  },
  {
   "cell_type": "code",
   "execution_count": 207,
   "metadata": {},
   "outputs": [
    {
     "data": {
      "text/plain": [
       "property_name        0\n",
       "address              0\n",
       "short_description    0\n",
       "price                0\n",
       "bedrooms             0\n",
       "bathrooms            0\n",
       "floor_area           0\n",
       "property_url         0\n",
       "type                 0\n",
       "teg                  0\n",
       "price_per_sqft       0\n",
       "sub_area             0\n",
       "area                 0\n",
       "dtype: int64"
      ]
     },
     "execution_count": 207,
     "metadata": {},
     "output_type": "execute_result"
    }
   ],
   "source": [
    "df.isnull().sum()"
   ]
  },
  {
   "cell_type": "code",
   "execution_count": 208,
   "metadata": {},
   "outputs": [
    {
     "data": {
      "text/plain": [
       "(5262, 13)"
      ]
     },
     "execution_count": 208,
     "metadata": {},
     "output_type": "execute_result"
    }
   ],
   "source": [
    "df.shape"
   ]
  },
  {
   "cell_type": "code",
   "execution_count": 209,
   "metadata": {},
   "outputs": [
    {
     "name": "stdout",
     "output_type": "stream",
     "text": [
      "<class 'pandas.core.frame.DataFrame'>\n",
      "Index: 5262 entries, 0 to 5298\n",
      "Data columns (total 13 columns):\n",
      " #   Column             Non-Null Count  Dtype  \n",
      "---  ------             --------------  -----  \n",
      " 0   property_name      5262 non-null   object \n",
      " 1   address            5262 non-null   object \n",
      " 2   short_description  5262 non-null   object \n",
      " 3   price              5262 non-null   float64\n",
      " 4   bedrooms           5262 non-null   float64\n",
      " 5   bathrooms          5262 non-null   float64\n",
      " 6   floor_area         5262 non-null   float64\n",
      " 7   property_url       5262 non-null   object \n",
      " 8   type               5262 non-null   object \n",
      " 9   teg                5262 non-null   object \n",
      " 10  price_per_sqft     5262 non-null   float64\n",
      " 11  sub_area           5262 non-null   object \n",
      " 12  area               5262 non-null   object \n",
      "dtypes: float64(5), object(8)\n",
      "memory usage: 575.5+ KB\n"
     ]
    }
   ],
   "source": [
    "df.info()"
   ]
  },
  {
   "cell_type": "code",
   "execution_count": 218,
   "metadata": {},
   "outputs": [],
   "source": [
    "from sklearn.feature_extraction.text import TfidfVectorizer\n",
    "from sklearn.preprocessing import MinMaxScaler, OneHotEncoder, FunctionTransformer\n",
    "from sklearn.metrics.pairwise import cosine_similarity\n",
    "from sklearn.compose import ColumnTransformer\n",
    "from sklearn.pipeline import Pipeline\n",
    "from sklearn.base import BaseEstimator, TransformerMixin\n",
    "import pandas as pd\n",
    "import numpy as np\n",
    "import spacy\n",
    "nlp = spacy.load('en_core_web_sm')\n",
    "\n",
    "# Custom transformer for text preprocessing with lemmatization\n",
    "class TextPreprocessor(BaseEstimator, TransformerMixin):\n",
    "    def __init__(self, nlp):\n",
    "        self.nlp = nlp\n",
    "\n",
    "    def fit(self, X, y=None):\n",
    "        return self\n",
    "\n",
    "    def transform(self, X):\n",
    "        return X.apply(lambda text: ' '.join([token.lemma_ for token in self.nlp(str(text))]))\n"
   ]
  },
  {
   "cell_type": "code",
   "execution_count": 220,
   "metadata": {},
   "outputs": [],
   "source": [
    "# Text and numerical processing pipeline\n",
    "text_pipeline = Pipeline([\n",
    "    ('text_preprocessing', TextPreprocessor(nlp)),\n",
    "    ('tfidf', TfidfVectorizer(stop_words='english', max_df=0.7, min_df=0.01))\n",
    "])\n"
   ]
  },
  {
   "cell_type": "code",
   "execution_count": 221,
   "metadata": {},
   "outputs": [],
   "source": [
    "# Categorical encoding pipeline\n",
    "area_pipeline = Pipeline([\n",
    "    ('ohe', OneHotEncoder(handle_unknown='ignore'))\n",
    "])\n"
   ]
  },
  {
   "cell_type": "code",
   "execution_count": 222,
   "metadata": {},
   "outputs": [],
   "source": [
    "# Numerical processing with additional interaction features\n",
    "def add_interaction_features(df):\n",
    "    df['price_per_sqft'] = df['price'] / df['floor_area']\n",
    "    df['bed_bath_ratio'] = df['bedrooms'] / (df['bathrooms'] + 1)  # Adding 1 to avoid division by zero\n",
    "    return df[['price', 'bedrooms', 'bathrooms', 'floor_area', 'price_per_sqft', 'bed_bath_ratio']]\n",
    "\n",
    "numeric_pipeline = Pipeline([\n",
    "    ('interaction_features', FunctionTransformer(add_interaction_features, validate=False)),\n",
    "    ('scaler', MinMaxScaler())\n",
    "])"
   ]
  },
  {
   "cell_type": "code",
   "execution_count": 223,
   "metadata": {},
   "outputs": [],
   "source": [
    "# Combine all features\n",
    "preprocessor = ColumnTransformer([\n",
    "    ('text', text_pipeline, 'short_description'),\n",
    "    ('area', area_pipeline, ['area']),\n",
    "    ('numeric', numeric_pipeline, ['price', 'bedrooms', 'bathrooms', 'floor_area'])\n",
    "])"
   ]
  },
  {
   "cell_type": "code",
   "execution_count": 224,
   "metadata": {},
   "outputs": [],
   "source": [
    "# Fit and transform data\n",
    "combined_features = preprocessor.fit_transform(df)"
   ]
  },
  {
   "cell_type": "code",
   "execution_count": 225,
   "metadata": {},
   "outputs": [],
   "source": [
    "similarity_matrix = cosine_similarity(combined_features)"
   ]
  },
  {
   "cell_type": "code",
   "execution_count": 64,
   "metadata": {},
   "outputs": [],
   "source": [
    "# # Weighted cosine similarity function\n",
    "# def weighted_cosine_similarity(matrix, weights):\n",
    "#     # Apply weights along each feature\n",
    "#     weighted_matrix = matrix * weights.reshape(1, -1)\n",
    "#     return cosine_similarity(weighted_matrix)"
   ]
  },
  {
   "cell_type": "code",
   "execution_count": 65,
   "metadata": {},
   "outputs": [],
   "source": [
    "# similarity_matrix = weighted_cosine_similarity(combined_features_dense, weights)\n"
   ]
  },
  {
   "cell_type": "code",
   "execution_count": 231,
   "metadata": {},
   "outputs": [
    {
     "name": "stdout",
     "output_type": "stream",
     "text": [
      "Top Recommendations:\n",
      "\n",
      "Property Name: Visit This Apartment For Sale In Mirpur Near Mirpur Adhunik Hospital And Diagnostic C...\n",
      "Location (Area):  Mirpur\n",
      "Price: 9000000.0\n",
      "Floor Area: 1250.0 sqft\n",
      "Bedrooms: 3.0, Bathrooms: 3.0\n",
      "Description: lovely apartment is vacant at the moment you get all the facilities you need along with a spacious p...\n",
      "URL: https://www.bproperty.com/buy/dhaka/mirpur/visit-this-apartment-for-sale-in-mirpur-near-mirpu-171763838323/\n",
      "----------------------------------------\n",
      "Property Name: Buy This 1340 Sq Ft Apartment In Eastern Pallabi, Mirpur\n",
      "Location (Area):  Mirpur\n",
      "Price: 9000000.0\n",
      "Floor Area: 1340.0 sqft\n",
      "Bedrooms: 3.0, Bathrooms: 3.0\n",
      "Description: you have landed yourself in the right listing if you are looking for one of the most picked and affo...\n",
      "URL: https://www.bproperty.com/buy/dhaka/mirpur/buy-this-1340-sq-ft-apartment-in-eastern-pallabi-m-171763158190/\n",
      "----------------------------------------\n",
      "Property Name: 1650 Sq Ft Apartment With Nice Bedrooms For Sale In Mirpur, Middle Monipur\n",
      "Location (Area):  Mirpur\n",
      "Price: 10000000.0\n",
      "Floor Area: 1650.0 sqft\n",
      "Bedrooms: 3.0, Bathrooms: 3.0\n",
      "Description: looking for a nice and cozy place to settle check out this 1650 square feet flat from our enlisted p...\n",
      "URL: https://www.bproperty.com/buy/dhaka/mirpur/1650-sq-ft-apartment-with-nice-bedrooms-for-sale-i-171761242890/\n",
      "----------------------------------------\n",
      "Property Name: Create your home in a 1200 SQ FT apartment for sale in Mirpur DOHS\n",
      "Location (Area):  Mirpur\n",
      "Price: 10000000.0\n",
      "Floor Area: 1200.0 sqft\n",
      "Bedrooms: 3.0, Bathrooms: 3.0\n",
      "Description: fortified living has become a must when it comes to securing a permanent address in this city to mak...\n",
      "URL: https://www.bproperty.com/buy/dhaka/mirpur/create-your-home-in-a-1200-sq-ft-apartment-for-sal-171762494985/\n",
      "----------------------------------------\n",
      "Property Name: Let Us Help You To Buy This 1125 Sq Ft Apartment Which Is Now Available In Mirpur DOH...\n",
      "Location (Area):  Mirpur\n",
      "Price: 9500000.0\n",
      "Floor Area: 1125.0 sqft\n",
      "Bedrooms: 3.0, Bathrooms: 3.0\n",
      "Description: peaceful environment convenient commuting system and satisfactory prices yes we are talking about th...\n",
      "URL: https://www.bproperty.com/buy/dhaka/mirpur/let-us-help-you-to-buy-this-1125-sq-ft-apartment-w-171763262650/\n",
      "----------------------------------------\n"
     ]
    }
   ],
   "source": [
    "# Filter function to narrow down the dataset\n",
    "def filter_data(data, area=None, min_price=None, max_price=None, min_bedrooms=None, max_bedrooms=None):\n",
    "    filtered_data = data.copy()\n",
    "    if area:\n",
    "        filtered_data = filtered_data[filtered_data['area'].str.contains(area, case=False)]\n",
    "    if min_price is not None:\n",
    "        filtered_data = filtered_data[filtered_data['price'] >= min_price]\n",
    "    if max_price is not None:\n",
    "        filtered_data = filtered_data[filtered_data['price'] <= max_price]\n",
    "    if min_bedrooms is not None:\n",
    "        filtered_data = filtered_data[filtered_data['bedrooms'] >= min_bedrooms]\n",
    "    if max_bedrooms is not None:\n",
    "        filtered_data = filtered_data[filtered_data['bedrooms'] <= max_bedrooms]\n",
    "    return filtered_data\n",
    "\n",
    "# Function to get recommendations based on similarity, now with area and other filters\n",
    "def get_recommendations(index, top_n=5, area=None, min_price=None, max_price=None, min_bedrooms=None, max_bedrooms=None):\n",
    "    filtered_data = filter_data(df, area, min_price, max_price, min_bedrooms, max_bedrooms)\n",
    "    filtered_indices = filtered_data.index.tolist()\n",
    "    \n",
    "    # Calculate similarity only for filtered data\n",
    "    similarity_scores = [(i, similarity_matrix[index][i]) for i in filtered_indices]\n",
    "    similarity_scores = sorted(similarity_scores, key=lambda x: x[1], reverse=True)\n",
    "    top_properties = [i[0] for i in similarity_scores[1:top_n+1]]\n",
    "    \n",
    "    return df[['property_name', 'price', 'bedrooms', 'bathrooms', 'floor_area', 'area', 'short_description', 'property_url']].iloc[top_properties]\n",
    "\n",
    "# Display recommendations function with additional details\n",
    "def display_recommendations(index, top_n=5, area=None, min_price=None, max_price=None, min_bedrooms=None, max_bedrooms=None):\n",
    "    recommendations = get_recommendations(index, top_n, area, min_price, max_price, min_bedrooms, max_bedrooms)\n",
    "    print(\"Top Recommendations:\\n\")\n",
    "    for i, row in recommendations.iterrows():\n",
    "        print(f\"Property Name: {row['property_name']}\")\n",
    "        print(f\"Location (Area): {row['area']}\")\n",
    "        print(f\"Price: {row['price']}\")\n",
    "        print(f\"Floor Area: {row['floor_area']} sqft\")\n",
    "        print(f\"Bedrooms: {row['bedrooms']}, Bathrooms: {row['bathrooms']}\")\n",
    "        print(f\"Description: {row['short_description'][:100]}...\")  # Display first 100 characters\n",
    "        print(f\"URL: {row['property_url']}\")\n",
    "        print(\"-\" * 40)\n",
    "\n",
    "# Example usage with filters\n",
    "display_recommendations(0, top_n=5, area='Mirpur', min_price=9000000, max_price=10000000, min_bedrooms=2, max_bedrooms=3)"
   ]
  },
  {
   "cell_type": "code",
   "execution_count": 232,
   "metadata": {},
   "outputs": [],
   "source": [
    "import pickle\n",
    "# Save the model to a file\n",
    "with open('preprocessor_pipeline2.pkl', 'wb') as file:\n",
    "    pickle.dump(preprocessor, file)\n"
   ]
  },
  {
   "cell_type": "code",
   "execution_count": 233,
   "metadata": {},
   "outputs": [],
   "source": [
    "import pickle\n",
    "\n",
    "# Save similarity matrix\n",
    "with open(r\"D:\\Work file\\bd_real_estate\\models\\similarity_matrix2.pkl\", 'wb') as f:\n",
    "    pickle.dump(similarity_matrix, f)\n"
   ]
  },
  {
   "cell_type": "code",
   "execution_count": 18,
   "metadata": {},
   "outputs": [],
   "source": [
    "# Get the counts of each unique 'area' value\n",
    "area_counts = df[\"area\"].value_counts()\n",
    "\n",
    "# Filter the rows where 'area' appears 20 or more times\n",
    "df = df[df[\"area\"].isin(area_counts[area_counts >= 20].index)]\n",
    "\n"
   ]
  },
  {
   "cell_type": "code",
   "execution_count": 19,
   "metadata": {},
   "outputs": [
    {
     "data": {
      "text/plain": [
       "area\n",
       "Mirpur             1565\n",
       "Bashundhara R-A     876\n",
       "Uttara              605\n",
       "Badda               448\n",
       "Mohammadpur         341\n",
       "Banasree            284\n",
       "Agargaon            111\n",
       "Rampura             103\n",
       "Khilgaon             87\n",
       "Tejgaon              57\n",
       "Motijheel            54\n",
       "Gulshan              48\n",
       "Dakshin Khan         39\n",
       "Mohakhali            32\n",
       "Keraniganj           30\n",
       "Aftab Nagar          28\n",
       "New Market           27\n",
       "Banani               24\n",
       "Dhanmondi            21\n",
       "Name: count, dtype: int64"
      ]
     },
     "execution_count": 19,
     "metadata": {},
     "output_type": "execute_result"
    }
   ],
   "source": [
    "df[\"area\"].value_counts()"
   ]
  },
  {
   "cell_type": "code",
   "execution_count": 20,
   "metadata": {},
   "outputs": [],
   "source": [
    "df.to_csv('recomendation.csv')"
   ]
  },
  {
   "cell_type": "code",
   "execution_count": 152,
   "metadata": {},
   "outputs": [],
   "source": [
    "rf=pd.read_csv('recomendation.csv')"
   ]
  },
  {
   "cell_type": "code",
   "execution_count": 153,
   "metadata": {},
   "outputs": [
    {
     "data": {
      "text/plain": [
       "(4780, 14)"
      ]
     },
     "execution_count": 153,
     "metadata": {},
     "output_type": "execute_result"
    }
   ],
   "source": [
    "rf.shape"
   ]
  },
  {
   "cell_type": "code",
   "execution_count": 180,
   "metadata": {},
   "outputs": [],
   "source": [
    "af=pd.read_csv('Dhanmondi.csv')"
   ]
  },
  {
   "cell_type": "code",
   "execution_count": 181,
   "metadata": {},
   "outputs": [],
   "source": [
    "rf = pd.concat([rf,af],ignore_index=True)"
   ]
  },
  {
   "cell_type": "code",
   "execution_count": 201,
   "metadata": {},
   "outputs": [
    {
     "data": {
      "text/plain": [
       "property_name        0\n",
       "address              0\n",
       "short_description    0\n",
       "price                0\n",
       "bedrooms             0\n",
       "bathrooms            0\n",
       "floor_area           0\n",
       "property_url         0\n",
       "type                 0\n",
       "teg                  0\n",
       "price_per_sqft       0\n",
       "sub_area             0\n",
       "area                 0\n",
       "dtype: int64"
      ]
     },
     "execution_count": 201,
     "metadata": {},
     "output_type": "execute_result"
    }
   ],
   "source": [
    "rf.isnull().sum()"
   ]
  },
  {
   "cell_type": "code",
   "execution_count": 193,
   "metadata": {},
   "outputs": [],
   "source": [
    "rf = rf.dropna(subset=['bedrooms', 'bathrooms','area'])\n"
   ]
  },
  {
   "cell_type": "code",
   "execution_count": 200,
   "metadata": {},
   "outputs": [],
   "source": [
    "rf=rf.drop(columns='Unnamed: 0',axis=1)"
   ]
  },
  {
   "cell_type": "code",
   "execution_count": 184,
   "metadata": {},
   "outputs": [],
   "source": [
    "rf['floor_area'] = rf['floor_area'].replace('[ sqft]', '', regex=True).astype(float)\n",
    "rf['price'] = rf['price'].replace('[৳,]', '', regex=True).astype(float)"
   ]
  },
  {
   "cell_type": "code",
   "execution_count": 185,
   "metadata": {},
   "outputs": [],
   "source": [
    "rf['short_description'] = rf['short_description'].str.lower()"
   ]
  },
  {
   "cell_type": "code",
   "execution_count": 186,
   "metadata": {},
   "outputs": [],
   "source": [
    "rf[\"short_description\"] = rf[\"short_description\"].str.replace(r'[^A-Za-z0-9 ]', '', regex=True)"
   ]
  },
  {
   "cell_type": "code",
   "execution_count": 187,
   "metadata": {},
   "outputs": [],
   "source": [
    "rf[\"short_description\"] = rf[\"short_description\"].apply(lambda x: ' '.join(str(x).split()))\n"
   ]
  },
  {
   "cell_type": "code",
   "execution_count": 188,
   "metadata": {},
   "outputs": [
    {
     "data": {
      "text/plain": [
       "np.int64(4)"
      ]
     },
     "execution_count": 188,
     "metadata": {},
     "output_type": "execute_result"
    }
   ],
   "source": [
    "rf.duplicated().sum()"
   ]
  },
  {
   "cell_type": "code",
   "execution_count": 189,
   "metadata": {},
   "outputs": [],
   "source": [
    "def calculate_price_per_sqft(price, floor_area):\n",
    "    if floor_area <= 0:\n",
    "        raise ValueError(\"Floor area must be greater than zero.\")\n",
    "    return price / floor_area\n",
    "\n",
    "rf['price_per_sqft'] = rf.apply(lambda x: calculate_price_per_sqft(x['price'], x['floor_area']), axis=1)"
   ]
  },
  {
   "cell_type": "code",
   "execution_count": 190,
   "metadata": {},
   "outputs": [],
   "source": [
    "rf[['sub_area', 'area']] = rf['address'].str.split(',', expand=True)"
   ]
  },
  {
   "cell_type": "code",
   "execution_count": 195,
   "metadata": {},
   "outputs": [
    {
     "data": {
      "text/plain": [
       "area\n",
       "Mirpur             1565\n",
       "Bashundhara R-A     876\n",
       "Uttara              605\n",
       "Badda               448\n",
       "Mohammadpur         341\n",
       "Banasree            284\n",
       "Aftab Nagar         216\n",
       "Dakshin Khan        205\n",
       "Dhanmondi           149\n",
       "Agargaon            111\n",
       "Rampura             103\n",
       "Khilgaon             87\n",
       "Tejgaon              57\n",
       "Motijheel            54\n",
       "Gulshan              48\n",
       "Mohakhali            32\n",
       "Keraniganj           30\n",
       "New Market           27\n",
       "Banani               24\n",
       "Name: count, dtype: int64"
      ]
     },
     "execution_count": 195,
     "metadata": {},
     "output_type": "execute_result"
    }
   ],
   "source": [
    "rf['area'].value_counts()"
   ]
  },
  {
   "cell_type": "code",
   "execution_count": 202,
   "metadata": {},
   "outputs": [],
   "source": [
    "rf.to_csv(\"Recommendation_data.csv\")"
   ]
  },
  {
   "cell_type": "code",
   "execution_count": null,
   "metadata": {},
   "outputs": [],
   "source": []
  }
 ],
 "metadata": {
  "kernelspec": {
   "display_name": "real_estate_venv",
   "language": "python",
   "name": "python3"
  },
  "language_info": {
   "codemirror_mode": {
    "name": "ipython",
    "version": 3
   },
   "file_extension": ".py",
   "mimetype": "text/x-python",
   "name": "python",
   "nbconvert_exporter": "python",
   "pygments_lexer": "ipython3",
   "version": "3.12.0"
  }
 },
 "nbformat": 4,
 "nbformat_minor": 2
}
